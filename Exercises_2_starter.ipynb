{
 "cells": [
  {
   "cell_type": "markdown",
   "metadata": {},
   "source": [
    "# 2. Exercises\n",
    "a. Some practice getting slopes (derivatives, gradients) of some functions with PyTorch.  \n",
    "b. First machine learning exercise: add one line of code to the training loop, where it says \"ADD YOUR CODE HERE\"."
   ]
  },
  {
   "cell_type": "code",
   "execution_count": null,
   "metadata": {},
   "outputs": [],
   "source": [
    "import numpy as np\n",
    "import torch"
   ]
  },
  {
   "cell_type": "code",
   "execution_count": null,
   "metadata": {},
   "outputs": [],
   "source": [
    "# Here's how to take the derivative of a function:\n",
    "\n",
    "def f(x):\n",
    "    return x**2 + 3*x + 2\n",
    "\n",
    "# Declare a tensor.\n",
    "x = torch.tensor([3], dtype=torch.float32, requires_grad=True)\n",
    "\n",
    "# Apply the function, save the result.\n",
    "y = f(x)\n",
    "\n",
    "print(y, \"\\n\")\n",
    "\n",
    "# Call backward on the result variable to trigger pytorch to calculate the gradients.\n",
    "y.backward()\n",
    "\n",
    "print(f\"The slope of x**2 + 3*x + 2 when x = 3 is {x.grad}\")"
   ]
  },
  {
   "cell_type": "code",
   "execution_count": null,
   "metadata": {},
   "outputs": [],
   "source": [
    "# If the same calculation is repeated, what happens to the value of grad?\n",
    "\n",
    "# And again?\n",
    "\n",
    "y = f(x)\n",
    "y.backward()\n",
    "print(f\"The slope of x**2 + 3*x + 2 when x = 3 is {x.grad}\")\n",
    "\n",
    "\n",
    "y = f(x)\n",
    "y.backward()\n",
    "print(f\"The slope of x**2 + 3*x + 2 when x = 3 is {x.grad}\")\n",
    "\n"
   ]
  },
  {
   "cell_type": "code",
   "execution_count": null,
   "metadata": {},
   "outputs": [],
   "source": [
    "# Gradients accumulate by design.  This feature supports coding recurrent neural networks.\n",
    "# For regular neural networks, though, gradients have to be zeroed after each time\n",
    "# they are calculated.\n",
    "\n",
    "# Zero the gradient on x using this line (uncomment):\n",
    "# x.grad.zero_()\n",
    "\n",
    "# Note, in PyTorch methods suffixed with an underscore '_' modify the variables in place."
   ]
  },
  {
   "cell_type": "code",
   "execution_count": null,
   "metadata": {},
   "outputs": [],
   "source": [
    "# Use PyTorch to calculate the derivative of x^3 when x = -2:\n",
    "\n",
    "def f(x):\n",
    "    return x**3\n",
    "\n",
    "\n",
    "\n",
    "# answer:\n"
   ]
  },
  {
   "cell_type": "code",
   "execution_count": null,
   "metadata": {},
   "outputs": [],
   "source": [
    "# The .data method on tensors will make a copy of the tensor.\n",
    "# Does it copy the value of the requires_grad flag?\n",
    "\n",
    "\n",
    "x = torch.tensor([-2], dtype=torch.float32, requires_grad=True)\n",
    "\n",
    "v = x.data\n",
    "\n",
    "print(x.requires_grad)\n",
    "print(v.requires_grad)\n",
    "\n"
   ]
  },
  {
   "cell_type": "markdown",
   "metadata": {},
   "source": [
    "# Gradient Descent Exercise\n",
    "\n",
    "* Use PyTorch's auto differentiation + gradient descent to predict iris sepal width from sepal length.\n",
    "* The iris dataset is a famous dataset collected by R.A. Fisher:\n",
    "\n",
    "https://archive.ics.uci.edu/ml/datasets/iris"
   ]
  },
  {
   "cell_type": "code",
   "execution_count": null,
   "metadata": {},
   "outputs": [],
   "source": [
    "import pandas as pd\n",
    "import matplotlib.pyplot as plt\n",
    "import seaborn as sns\n",
    "%matplotlib inline\n",
    "\n",
    "iris = pd.read_csv('./data/iris.csv')\n",
    "setosa = iris[iris.species == 'setosa']\n",
    "\n",
    "setosa.sample(3)"
   ]
  },
  {
   "cell_type": "code",
   "execution_count": null,
   "metadata": {},
   "outputs": [],
   "source": [
    "plt.figure(figsize=(9,6))\n",
    "sns.set_style('darkgrid')\n",
    "plt.scatter(setosa.sepal_length, setosa.sepal_width)\n",
    "plt.xlabel(\"sepal length\")\n",
    "plt.ylabel(\"sepal width\")"
   ]
  },
  {
   "cell_type": "markdown",
   "metadata": {},
   "source": [
    "# The model\n",
    "\n",
    "* instead of `y = sin(x - w)`, use something a little simpler: `f(x) = w*x + b`.\n",
    "* will need to update both w and b.\n",
    "* start with initial values of w = -0.5, b = 7"
   ]
  },
  {
   "cell_type": "code",
   "execution_count": null,
   "metadata": {},
   "outputs": [],
   "source": [
    "torch.manual_seed(4)\n",
    "\n",
    "w = torch.randn(1, requires_grad = True)\n",
    "b = torch.randn(1, requires_grad = True)\n",
    "\n",
    "\n",
    "xs = torch.tensor(np.arange(4, 6, 0.1), dtype=torch.float32)\n",
    "\n",
    "def f(x, w, b):\n",
    "    return w * x + b\n",
    "\n",
    "y = f(xs, w, b).data.numpy()\n",
    "\n",
    "plt.figure(figsize=(9,6))\n",
    "plt.scatter(setosa.sepal_length, setosa.sepal_width)\n",
    "plt.plot(xs.numpy(), y, color='green');\n",
    "plt.xlabel(\"sepal length\")\n",
    "plt.ylabel(\"sepal width\")"
   ]
  },
  {
   "cell_type": "code",
   "execution_count": null,
   "metadata": {},
   "outputs": [],
   "source": [
    "def mean_squared_error(y_obs, y_predictions):\n",
    "    difference_squared = (y_obs - y_predictions)**2\n",
    "    \n",
    "    return torch.mean(difference_squared)"
   ]
  },
  {
   "cell_type": "code",
   "execution_count": null,
   "metadata": {},
   "outputs": [],
   "source": [
    "x_obs = torch.tensor(setosa.sepal_length.values, dtype=torch.float32)\n",
    "y_obs = torch.tensor(setosa.sepal_width.values,  dtype=torch.float32)\n",
    "\n",
    "\n",
    "LEARNING_RATE = 0.001\n",
    "\n",
    "for i in range(100):\n",
    "    \n",
    "    y_predictions = f(x_obs, w, b)\n",
    "    \n",
    "    loss = mean_squared_error(y_obs, y_predictions)\n",
    "\n",
    "    # ADD YOUR CODE HERE\n",
    "    # Add _one_ line to calculate the gradients.\n",
    "\n",
    "    \n",
    "    if not i % 10:\n",
    "        print(f\"loss: {loss.item()}, w: {w.item()}, b: {b.item()}, b.grad {b.grad.item()}, w.grad: {w.grad.item()}\")\n",
    "\n",
    "        \n",
    "    w = w.data - (w.grad * LEARNING_RATE)\n",
    "    b = b.data - (b.grad * LEARNING_RATE)\n",
    "\n",
    "    w.requires_grad = True\n",
    "    b.requires_grad = True\n",
    "\n"
   ]
  },
  {
   "cell_type": "code",
   "execution_count": null,
   "metadata": {},
   "outputs": [],
   "source": [
    "print(f\"w: {w.item()}\")\n",
    "print(f\"b: {b.item()}\")\n",
    "\n",
    "y = f(xs, w, b).data.numpy()\n",
    "\n",
    "plt.figure(figsize=(9,6))\n",
    "plt.scatter(setosa.sepal_length, setosa.sepal_width)\n",
    "plt.plot(xs.numpy(), y, color='green');\n",
    "plt.xlabel(\"sepal length\")\n",
    "plt.ylabel(\"sepal width\")"
   ]
  },
  {
   "cell_type": "code",
   "execution_count": null,
   "metadata": {},
   "outputs": [],
   "source": []
  }
 ],
 "metadata": {
  "kernelspec": {
   "display_name": "Python 3",
   "language": "python",
   "name": "python3"
  },
  "language_info": {
   "codemirror_mode": {
    "name": "ipython",
    "version": 3
   },
   "file_extension": ".py",
   "mimetype": "text/x-python",
   "name": "python",
   "nbconvert_exporter": "python",
   "pygments_lexer": "ipython3",
   "version": "3.6.4"
  }
 },
 "nbformat": 4,
 "nbformat_minor": 2
}
