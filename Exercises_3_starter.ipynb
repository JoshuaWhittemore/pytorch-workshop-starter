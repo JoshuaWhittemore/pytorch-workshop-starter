{
 "cells": [
  {
   "cell_type": "markdown",
   "metadata": {},
   "source": [
    "# Exercise 3\n",
    "\n",
    "* To complete this exercise you just need to add *two* short lines of code \n",
    "  inside the training loop, where it says \"YOUR CODE HERE\".\n"
   ]
  },
  {
   "cell_type": "code",
   "execution_count": null,
   "metadata": {},
   "outputs": [],
   "source": [
    "import numpy as np\n",
    "import pandas as pd\n",
    "\n",
    "import torch\n",
    "import torch.nn as nn\n",
    "import torch.nn.functional as F\n",
    "import torch.optim as optim\n",
    "\n",
    "RANDOM_SEED = 1\n",
    "torch.manual_seed(RANDOM_SEED)\n",
    "\n",
    "import matplotlib.pyplot as plt\n",
    "%matplotlib inline"
   ]
  },
  {
   "cell_type": "code",
   "execution_count": null,
   "metadata": {},
   "outputs": [],
   "source": [
    "use_cpu = False\n",
    "\n",
    "if use_cpu and torch.cuda.is_available():\n",
    "    DEVICE = torch.device('cuda')\n",
    "    print(\"Using cuda.\")\n",
    "else:\n",
    "    DEVICE = torch.device('cpu')\n",
    "    print(\"Using cpu.\")"
   ]
  },
  {
   "cell_type": "code",
   "execution_count": null,
   "metadata": {},
   "outputs": [],
   "source": [
    "df = pd.read_csv('./data/char74k-digits-and-uppercase.csv')\n",
    "df.sample(3)"
   ]
  },
  {
   "cell_type": "code",
   "execution_count": null,
   "metadata": {},
   "outputs": [],
   "source": [
    "LABELS = '0123456789ABCDEFGHIJKLMNOPQRSTUVWXYZ'\n",
    "sample = df.sample()\n",
    "print(LABELS[sample.label.iloc[0]])\n",
    "\n",
    "image = sample.drop('label', axis=1).values.reshape((30,40,))\n",
    "\n",
    "plt.imshow(image, cmap='gray');"
   ]
  },
  {
   "cell_type": "code",
   "execution_count": null,
   "metadata": {},
   "outputs": [],
   "source": [
    "y_labels = df.label.values\n",
    "X_images = df.drop('label', axis=1).values\n"
   ]
  },
  {
   "cell_type": "code",
   "execution_count": null,
   "metadata": {},
   "outputs": [],
   "source": []
  },
  {
   "cell_type": "code",
   "execution_count": null,
   "metadata": {},
   "outputs": [],
   "source": [
    "from sklearn.model_selection import train_test_split\n",
    "\n",
    "# 55 images per class and 36 classes\n",
    "# take 10 images from each class, so test_size = 360.\n",
    "\n",
    "X_train, X_validation, y_train, y_validation = train_test_split(X_images,\n",
    "                                                                y_labels,\n",
    "                                                                test_size=360,\n",
    "                                                                stratify=y_labels,\n",
    "                                                                shuffle=True,\n",
    "                                                                random_state=RANDOM_SEED\n",
    "                                                               )"
   ]
  },
  {
   "cell_type": "code",
   "execution_count": null,
   "metadata": {},
   "outputs": [],
   "source": [
    "X_train = torch.from_numpy(X_train).to(DEVICE, torch.float32)\n",
    "y_train = torch.from_numpy(y_train).to(DEVICE, torch.long)\n",
    "\n",
    "X_validation = torch.from_numpy(X_validation).to(DEVICE, torch.float32)\n",
    "y_validation = torch.from_numpy(y_validation).to(DEVICE, torch.long)"
   ]
  },
  {
   "cell_type": "code",
   "execution_count": null,
   "metadata": {},
   "outputs": [],
   "source": [
    "NUM_FEATURES = 1200\n",
    "NUM_CLASSES = 36"
   ]
  },
  {
   "cell_type": "code",
   "execution_count": null,
   "metadata": {},
   "outputs": [],
   "source": [
    "class Classifier(nn.Module):\n",
    "    def __init__(self):\n",
    "        super(Classifier, self).__init__()\n",
    "\n",
    "        self.fc1 = nn.Linear(NUM_FEATURES, 600) \n",
    "        self.fc2 = nn.Linear(600, 200)\n",
    "        self.fc3 = nn.Linear(200, NUM_CLASSES)\n",
    "    \n",
    "    def forward(self, x):\n",
    "        x = F.relu(self.fc1(x))\n",
    "        x = F.relu(self.fc2(x))\n",
    "\n",
    "        x = self.fc3(x)\n",
    "        return x\n",
    "    \n",
    "    \n",
    "classifier = Classifier()\n",
    "classifier = classifier.to(DEVICE)\n",
    "\n",
    "print(classifier)"
   ]
  },
  {
   "cell_type": "code",
   "execution_count": null,
   "metadata": {},
   "outputs": [],
   "source": [
    "LEARNING_RATE = 0.1\n",
    "\n",
    "minimizer = torch.optim.SGD(classifier.parameters(), lr=LEARNING_RATE)"
   ]
  },
  {
   "cell_type": "code",
   "execution_count": null,
   "metadata": {},
   "outputs": [],
   "source": [
    "NUM_EPOCHS = 300\n",
    "\n",
    "losses = []\n",
    "accuracies = []\n",
    "\n",
    "from sklearn.metrics import accuracy_score, confusion_matrix\n",
    "\n",
    "for epoch in range(NUM_EPOCHS):\n",
    "    minimizer.zero_grad()\n",
    "    \n",
    "    y_scores = classifier(X_train)\n",
    "\n",
    "    y_log_probs = F.log_softmax(y_scores, dim=1)\n",
    "    \n",
    "    loss = F.nll_loss(y_log_probs, y_train)\n",
    "    losses.append(loss)\n",
    "        \n",
    "    # YOUR CODE HERE \n",
    "    # You need to add two lines here.  \n",
    "    # \n",
    "    # 1. the first line will trigger PyTorch to calculate the gradients.\n",
    "    # 2. The second line will update the weights in the model.\n",
    "    # \n",
    "\n",
    "    if not epoch % 20:\n",
    "        print(f\"epoch {epoch} finished, loss: {loss.item()}\")\n"
   ]
  },
  {
   "cell_type": "code",
   "execution_count": null,
   "metadata": {},
   "outputs": [],
   "source": [
    "plt.plot(losses);"
   ]
  },
  {
   "cell_type": "code",
   "execution_count": null,
   "metadata": {},
   "outputs": [],
   "source": [
    "y_scores = classifier(X_validation)\n",
    "\n",
    "_, y_predictions = torch.max(y_scores.data, 1)\n",
    "\n",
    "accuracy = accuracy_score(y_validation, y_predictions)\n",
    "print(f\"Final accuracy score: {100*accuracy:.1f}%\")\n",
    "\n",
    "cm = confusion_matrix(y_validation, y_predictions)"
   ]
  },
  {
   "cell_type": "code",
   "execution_count": null,
   "metadata": {},
   "outputs": [],
   "source": [
    "import seaborn as sns\n",
    "\n",
    "plt.figure(figsize=(12,12))\n",
    "\n",
    "heatmap = sns.heatmap(cm, cmap='viridis');\n",
    "heatmap.set(xticklabels=LABELS);\n",
    "heatmap.set(yticklabels=LABELS);"
   ]
  }
 ],
 "metadata": {
  "kernelspec": {
   "display_name": "Python 3",
   "language": "python",
   "name": "python3"
  },
  "language_info": {
   "codemirror_mode": {
    "name": "ipython",
    "version": 3
   },
   "file_extension": ".py",
   "mimetype": "text/x-python",
   "name": "python",
   "nbconvert_exporter": "python",
   "pygments_lexer": "ipython3",
   "version": "3.6.4"
  }
 },
 "nbformat": 4,
 "nbformat_minor": 2
}
