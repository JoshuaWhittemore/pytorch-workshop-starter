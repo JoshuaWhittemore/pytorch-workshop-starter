{
 "cells": [
  {
   "cell_type": "markdown",
   "metadata": {},
   "source": [
    "# Exercises 1"
   ]
  },
  {
   "cell_type": "code",
   "execution_count": null,
   "metadata": {},
   "outputs": [],
   "source": [
    "import numpy as np\n",
    "import torch"
   ]
  },
  {
   "cell_type": "code",
   "execution_count": null,
   "metadata": {},
   "outputs": [],
   "source": [
    "# Using a python list, create a torch tensor with\n",
    "# a value of 10 and a data type of 32 bit floating point.\n",
    "\n",
    "\n",
    "# answer\n"
   ]
  },
  {
   "cell_type": "code",
   "execution_count": null,
   "metadata": {},
   "outputs": [],
   "source": [
    "# Using a python list element, create a torch tensor with\n",
    "# a value of 10 and a long data type (torch.long or torch.int64).\n",
    "\n",
    "# answer\n"
   ]
  },
  {
   "cell_type": "code",
   "execution_count": null,
   "metadata": {},
   "outputs": [],
   "source": [
    "# Extract the value of the tensor from the previous cell as a python scalar type, e.g.\n",
    "print(type(3.14))\n",
    "\n",
    "\n",
    "# answer\n"
   ]
  },
  {
   "cell_type": "code",
   "execution_count": null,
   "metadata": {},
   "outputs": [],
   "source": [
    "# Find the Matrix-vector product of Fib and x.\n",
    "\n",
    "Fib = torch.tensor([[1, 1], [1, 0]], dtype=torch.long)\n",
    "x = torch.ones(2, dtype=torch.long)\n",
    "\n",
    "\n",
    "print(\"Fib x:\")\n",
    "\n",
    "# answer\n"
   ]
  },
  {
   "cell_type": "code",
   "execution_count": null,
   "metadata": {},
   "outputs": [],
   "source": [
    "# Change the dimensions of P to (1, 9).\n",
    "P = torch.randn(3,3)\n",
    "\n",
    "\n",
    "print(P.shape)\n",
    "\n",
    "\n",
    "# answer\n"
   ]
  },
  {
   "cell_type": "code",
   "execution_count": null,
   "metadata": {},
   "outputs": [],
   "source": [
    "# Convert this numpy ndarray to a tensor.\n",
    "# Make sure its data type is torch.float32.\n",
    "a = np.ones((2,3,))\n",
    "\n",
    "\n",
    "# answer\n"
   ]
  },
  {
   "cell_type": "code",
   "execution_count": null,
   "metadata": {},
   "outputs": [],
   "source": [
    "# Convert this torch tensor to a numpy ndarray.\n",
    "t = torch.tensor([2,3,5,7,11], dtype=torch.float32)\n",
    "\n",
    "\n",
    "# answer\n"
   ]
  },
  {
   "cell_type": "code",
   "execution_count": null,
   "metadata": {},
   "outputs": [],
   "source": [
    "# Determine (programmatically) if you have an Nvidia GPU \n",
    "# on your machine, and the libraries to support it.\n",
    "\n",
    "# answer\n"
   ]
  },
  {
   "cell_type": "code",
   "execution_count": null,
   "metadata": {},
   "outputs": [],
   "source": [
    "# Rewrite the Numpy version of Sieve of Eratosthenes using torch instead of numpy.\n",
    "import numpy as np\n",
    "\n",
    "# Modified from primesfrom3to, listed here:\n",
    "# https://stackoverflow.com/questions/2068372/fastest-way-to-list-all-primes-below-n/3035188#3035188\n",
    "#\n",
    "def numpy_sieve(n):\n",
    "    \"\"\" Returns a array of primes p <= n \"\"\"\n",
    "\n",
    "    # a byte for each integer 0 up to n-1\n",
    "    candidates = np.ones(n+1, dtype=np.uint8)\n",
    "    candidates[0:2] = 0  # 0 and 1 are not prime\n",
    "\n",
    "    max_divisor = int(np.ceil(np.sqrt(n)))\n",
    "    divisors = np.arange(2, max_divisor+1, dtype=np.long)\n",
    "\n",
    "    for i in divisors:\n",
    "        if candidates[i]:  # if the ith entry is true, therefore i is prime\n",
    "\n",
    "            # starting with i*i, set all multiples of i to 0\n",
    "            candidates[i*i::i] = 0\n",
    "\n",
    "    return np.nonzero(candidates)[0]\n",
    "\n",
    "\n",
    "# answer\n"
   ]
  }
 ],
 "metadata": {
  "kernelspec": {
   "display_name": "Python 3",
   "language": "python",
   "name": "python3"
  },
  "language_info": {
   "codemirror_mode": {
    "name": "ipython",
    "version": 3
   },
   "file_extension": ".py",
   "mimetype": "text/x-python",
   "name": "python",
   "nbconvert_exporter": "python",
   "pygments_lexer": "ipython3",
   "version": "3.6.4"
  }
 },
 "nbformat": 4,
 "nbformat_minor": 2
}
